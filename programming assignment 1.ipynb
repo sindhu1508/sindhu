{
 "cells": [
  {
   "cell_type": "code",
   "execution_count": 1,
   "id": "487c9572",
   "metadata": {},
   "outputs": [
    {
     "name": "stdout",
     "output_type": "stream",
     "text": [
      "Hello Python\n"
     ]
    }
   ],
   "source": [
    "# qn.1.Write a Python program to print \"Hello Python\"?\n",
    "print(\"Hello Python\")"
   ]
  },
  {
   "cell_type": "code",
   "execution_count": 3,
   "id": "74573f0e",
   "metadata": {},
   "outputs": [
    {
     "name": "stdout",
     "output_type": "stream",
     "text": [
      "10\n",
      "4.0\n"
     ]
    }
   ],
   "source": [
    "# qn.2.Write a Python program to do arithmetical operations addition and division.?\n",
    "a = 8\n",
    "b = 2\n",
    "print(a+b)\n",
    "print(a/b)"
   ]
  },
  {
   "cell_type": "code",
   "execution_count": 1,
   "id": "e403af3b",
   "metadata": {},
   "outputs": [
    {
     "name": "stdout",
     "output_type": "stream",
     "text": [
      "Enter the base: 4\n",
      "Enter the height: 8\n",
      "Area of the triangle: 16.0\n"
     ]
    }
   ],
   "source": [
    "#qn.3.Write a Python program to find the area of a triangle?\n",
    "\n",
    "#when the base and height are given\n",
    "b = float(input(\"Enter the base: \"))\n",
    "h = float(input(\"Enter the height: \"))\n",
    "area = (b*h)/2\n",
    "print(f\"Area of the triangle: {area}\")\n",
    "\n"
   ]
  },
  {
   "cell_type": "code",
   "execution_count": 6,
   "id": "143ce0f1",
   "metadata": {},
   "outputs": [
    {
     "name": "stdout",
     "output_type": "stream",
     "text": [
      "First side:10\n",
      "Second side:15\n",
      "Third side:20\n",
      "Area of the triangle: 72.61843774138907\n"
     ]
    }
   ],
   "source": [
    "#when the sides are given\n",
    "a = float(input(\"First side:\"))\n",
    "b = float(input(\"Second side:\"))\n",
    "c = float(input(\"Third side:\"))\n",
    "s = (a+b+c)/2 #semiperimeter\n",
    "area = (s*(s-a)*(s-b)*(s-c))**0.5\n",
    "print(f\"Area of the triangle: {area}\")\n"
   ]
  },
  {
   "cell_type": "code",
   "execution_count": 5,
   "id": "23bd4152",
   "metadata": {},
   "outputs": [
    {
     "name": "stdout",
     "output_type": "stream",
     "text": [
      "Enter the value of x: 6\n",
      "Enter the value of y: 8\n",
      "Value of x: 8\n",
      "Value of y: 6\n"
     ]
    }
   ],
   "source": [
    "#qn.4.Write a Python program to swap two variables?\n",
    "x = input(\"Enter the value of x: \")\n",
    "y = input(\"Enter the value of y: \")\n",
    "z = x\n",
    "x = y\n",
    "y = z\n",
    "print(f\"Value of x: {x}\")\n",
    "print(f\"Value of y: {y}\")"
   ]
  },
  {
   "cell_type": "code",
   "execution_count": 8,
   "id": "72443ca0",
   "metadata": {},
   "outputs": [
    {
     "name": "stdout",
     "output_type": "stream",
     "text": [
      "20\n"
     ]
    }
   ],
   "source": [
    "#qn.5.Write a Python program to generate a random number?\n",
    "import random\n",
    "random_variable = random.randint(10,100)\n",
    "print(random_variable)"
   ]
  },
  {
   "cell_type": "code",
   "execution_count": null,
   "id": "722243a9",
   "metadata": {},
   "outputs": [],
   "source": []
  }
 ],
 "metadata": {
  "kernelspec": {
   "display_name": "Python 3 (ipykernel)",
   "language": "python",
   "name": "python3"
  },
  "language_info": {
   "codemirror_mode": {
    "name": "ipython",
    "version": 3
   },
   "file_extension": ".py",
   "mimetype": "text/x-python",
   "name": "python",
   "nbconvert_exporter": "python",
   "pygments_lexer": "ipython3",
   "version": "3.9.12"
  }
 },
 "nbformat": 4,
 "nbformat_minor": 5
}
