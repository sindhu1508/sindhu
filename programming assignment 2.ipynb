{
 "cells": [
  {
   "cell_type": "code",
   "execution_count": 1,
   "id": "c3ad8daf",
   "metadata": {},
   "outputs": [
    {
     "name": "stdout",
     "output_type": "stream",
     "text": [
      "kilometers: 6.2\n",
      "6.2 km is equal to 3.8525002 miles\n"
     ]
    }
   ],
   "source": [
    "#qn.1.Write a Python program to convert kilometers to miles?\n",
    "kilometers = float(input(\"kilometers: \"))\n",
    "conversion_factor = 0.621371\n",
    "miles = kilometers*conversion_factor\n",
    "print(f\"{kilometers} km is equal to {miles} miles\")"
   ]
  },
  {
   "cell_type": "code",
   "execution_count": 2,
   "id": "df9a0271",
   "metadata": {},
   "outputs": [
    {
     "name": "stdout",
     "output_type": "stream",
     "text": [
      "Enter the temperature value in celcius: 36.6\n",
      "36.6 degree celsius is equal to 97.88000000000001 degree Fahrenheit\n"
     ]
    }
   ],
   "source": [
    "#qn.2.Write a Python program to convert Celsius to Fahrenheit?\n",
    "celsius = float(input(\"Enter the temperature value in celcius: \"))\n",
    "fahrenheit = (celsius*1.8)+32\n",
    "print(f\"{celsius} degree celsius is equal to {fahrenheit} degree Fahrenheit\")"
   ]
  },
  {
   "cell_type": "code",
   "execution_count": 4,
   "id": "12cc3f5b",
   "metadata": {},
   "outputs": [
    {
     "name": "stdout",
     "output_type": "stream",
     "text": [
      "     June 2022\n",
      "Mo Tu We Th Fr Sa Su\n",
      "       1  2  3  4  5\n",
      " 6  7  8  9 10 11 12\n",
      "13 14 15 16 17 18 19\n",
      "20 21 22 23 24 25 26\n",
      "27 28 29 30\n",
      "\n"
     ]
    }
   ],
   "source": [
    "#qn.3.Write a Python program to display calendar?\n",
    "import calendar\n",
    "yy = 2022\n",
    "mm = 6\n",
    "print(calendar.month(yy,mm))"
   ]
  },
  {
   "cell_type": "code",
   "execution_count": 10,
   "id": "bada1db5",
   "metadata": {},
   "outputs": [
    {
     "name": "stdout",
     "output_type": "stream",
     "text": [
      "-2.0\n",
      "-3.0\n"
     ]
    }
   ],
   "source": [
    "#qn.4.Write a Python program to solve quadratic equation?\n",
    "import cmath\n",
    "import math\n",
    "def quad_eqn(a,b,c):\n",
    "    d = (b**2)- (4*a*c)\n",
    "    if d >= 0:\n",
    "        sqrt_val = math.sqrt(abs(d))\n",
    "        print((-b + sqrt_val)/2*a)\n",
    "        print((-b - sqrt_val)/2*a)\n",
    "    else:\n",
    "        sqrt_val = cmath.sqrt(d)\n",
    "        print((-b + sqrt_val)/2*a)\n",
    "        print((-b - sqrt_val)/2*a)\n",
    "        \n",
    "quad_eqn(1,5,6)"
   ]
  },
  {
   "cell_type": "code",
   "execution_count": 12,
   "id": "4007e7b7",
   "metadata": {},
   "outputs": [
    {
     "name": "stdout",
     "output_type": "stream",
     "text": [
      "(-1+4.795831523312719j)\n",
      "(-1-4.795831523312719j)\n"
     ]
    }
   ],
   "source": [
    "quad_eqn(2,1,3)"
   ]
  },
  {
   "cell_type": "code",
   "execution_count": 14,
   "id": "baed0f8f",
   "metadata": {},
   "outputs": [
    {
     "name": "stdout",
     "output_type": "stream",
     "text": [
      "After swapping : x = python, After swapping : y = hello\n"
     ]
    }
   ],
   "source": [
    "#qn.5.Write a Python program to swap two variables without temp variable?\n",
    "x = \"hello\"\n",
    "y = \"python\"\n",
    "print(f\"After swapping : x = {y}, After swapping : y = {x}\")"
   ]
  },
  {
   "cell_type": "code",
   "execution_count": null,
   "id": "6217cd93",
   "metadata": {},
   "outputs": [],
   "source": []
  }
 ],
 "metadata": {
  "kernelspec": {
   "display_name": "Python 3 (ipykernel)",
   "language": "python",
   "name": "python3"
  },
  "language_info": {
   "codemirror_mode": {
    "name": "ipython",
    "version": 3
   },
   "file_extension": ".py",
   "mimetype": "text/x-python",
   "name": "python",
   "nbconvert_exporter": "python",
   "pygments_lexer": "ipython3",
   "version": "3.9.12"
  }
 },
 "nbformat": 4,
 "nbformat_minor": 5
}
